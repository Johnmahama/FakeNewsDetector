{
 "cells": [
  {
   "cell_type": "code",
   "execution_count": 8,
   "id": "21683c91",
   "metadata": {},
   "outputs": [],
   "source": [
    "# imports\n",
    "\n",
    "import numpy as np\n",
    "import pandas as pd\n",
    "import itertools\n",
    "from sklearn.model_selection import train_test_split\n",
    "from sklearn.feature_extraction.text import TfidfVectorizer\n",
    "from sklearn.linear_model import PassiveAggressiveClassifier\n",
    "from sklearn.metrics import accuracy_score,confusion_matrix"
   ]
  },
  {
   "cell_type": "code",
   "execution_count": 65,
   "id": "f94a1986",
   "metadata": {},
   "outputs": [
    {
     "data": {
      "text/plain": [
       "(6335, 4)"
      ]
     },
     "execution_count": 65,
     "metadata": {},
     "output_type": "execute_result"
    }
   ],
   "source": [
    "#read data\n",
    "dfs =  pd.read_csv('./news.csv')\n",
    "df = dfs.dropna(axis=0)\n",
    "df.shape\n",
    "\n"
   ]
  },
  {
   "cell_type": "code",
   "execution_count": 58,
   "id": "14ea9951",
   "metadata": {},
   "outputs": [],
   "source": [
    "#get labels\n",
    "labels  =  df.label"
   ]
  },
  {
   "cell_type": "code",
   "execution_count": 67,
   "id": "48193055",
   "metadata": {},
   "outputs": [],
   "source": [
    "# split \n",
    "x_train,x_test,y_train,y_test =  train_test_split(df['text'],\n",
    "                                                  labels,test_size=0.2,random_state=7)"
   ]
  },
  {
   "cell_type": "code",
   "execution_count": 68,
   "id": "acf727f8",
   "metadata": {},
   "outputs": [],
   "source": [
    "#initialize tfidfvectorizer\n",
    "tfidf_vectorizer = TfidfVectorizer(stop_words ='english',max_df= 0.7)"
   ]
  },
  {
   "cell_type": "code",
   "execution_count": 69,
   "id": "ea54103e",
   "metadata": {},
   "outputs": [],
   "source": [
    "# fit transform train set and tranform test set\n",
    "tfidf_train = tfidf_vectorizer.fit_transform(x_train)\n",
    "tfidf_test =  tfidf_vectorizer.transform(x_test)"
   ]
  },
  {
   "cell_type": "code",
   "execution_count": 75,
   "id": "79b2c66b",
   "metadata": {
    "collapsed": true
   },
   "outputs": [
    {
     "name": "stdout",
     "output_type": "stream",
     "text": [
      "Accuracy: 92.81767955801105\n"
     ]
    }
   ],
   "source": [
    "#initialize passiveAggressivePassive\n",
    "pac=PassiveAggressiveClassifier(max_iter=50)\n",
    "pac.fit(tfidf_train,y_train)\n",
    "y_pred = pac.predict(tfidf_test)\n",
    "score = accuracy_score(y_test,y_pred)\n",
    "print(\"Accuracy: {}\".format(score*100,2))"
   ]
  },
  {
   "cell_type": "code",
   "execution_count": 76,
   "id": "c15f39ed",
   "metadata": {},
   "outputs": [
    {
     "data": {
      "text/plain": [
       "array([[589,  49],\n",
       "       [ 42, 587]], dtype=int64)"
      ]
     },
     "execution_count": 76,
     "metadata": {},
     "output_type": "execute_result"
    }
   ],
   "source": [
    "# Build confusion matrix\n",
    "confusion_matrix(y_test,y_pred,labels=[\"FAKE\",\"REAL\"])"
   ]
  }
 ],
 "metadata": {
  "kernelspec": {
   "display_name": "Python 3 (ipykernel)",
   "language": "python",
   "name": "python3"
  },
  "language_info": {
   "codemirror_mode": {
    "name": "ipython",
    "version": 3
   },
   "file_extension": ".py",
   "mimetype": "text/x-python",
   "name": "python",
   "nbconvert_exporter": "python",
   "pygments_lexer": "ipython3",
   "version": "3.9.7"
  }
 },
 "nbformat": 4,
 "nbformat_minor": 5
}
